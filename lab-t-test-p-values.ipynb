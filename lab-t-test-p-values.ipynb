{
 "cells": [
  {
   "cell_type": "code",
   "execution_count": 1,
   "id": "3258f57b",
   "metadata": {},
   "outputs": [],
   "source": [
    "# 1.One tailed t-test "
   ]
  },
  {
   "cell_type": "code",
   "execution_count": 2,
   "id": "432c34bb",
   "metadata": {},
   "outputs": [],
   "source": [
    "import pandas as pd\n",
    "import numpy as np\n",
    "from scipy.stats import ttest_ind"
   ]
  },
  {
   "cell_type": "code",
   "execution_count": 3,
   "id": "79f0bd66",
   "metadata": {},
   "outputs": [],
   "source": [
    "machine = pd.read_csv('files_for_lab/machine.txt', sep='\\t', encoding='utf-16')"
   ]
  },
  {
   "cell_type": "code",
   "execution_count": 4,
   "id": "6b62ea91",
   "metadata": {},
   "outputs": [
    {
     "data": {
      "text/plain": [
       "Index(['New machine', '    Old machine'], dtype='object')"
      ]
     },
     "execution_count": 4,
     "metadata": {},
     "output_type": "execute_result"
    }
   ],
   "source": [
    "machine.columns"
   ]
  },
  {
   "cell_type": "code",
   "execution_count": 5,
   "id": "63672c75",
   "metadata": {},
   "outputs": [],
   "source": [
    "machine = machine.rename(columns={'New machine': 'new_machine', '    Old machine': 'old_machine'})"
   ]
  },
  {
   "cell_type": "code",
   "execution_count": 6,
   "id": "184dbe11",
   "metadata": {},
   "outputs": [
    {
     "data": {
      "text/html": [
       "<div>\n",
       "<style scoped>\n",
       "    .dataframe tbody tr th:only-of-type {\n",
       "        vertical-align: middle;\n",
       "    }\n",
       "\n",
       "    .dataframe tbody tr th {\n",
       "        vertical-align: top;\n",
       "    }\n",
       "\n",
       "    .dataframe thead th {\n",
       "        text-align: right;\n",
       "    }\n",
       "</style>\n",
       "<table border=\"1\" class=\"dataframe\">\n",
       "  <thead>\n",
       "    <tr style=\"text-align: right;\">\n",
       "      <th></th>\n",
       "      <th>new_machine</th>\n",
       "      <th>old_machine</th>\n",
       "    </tr>\n",
       "  </thead>\n",
       "  <tbody>\n",
       "    <tr>\n",
       "      <th>0</th>\n",
       "      <td>42.1</td>\n",
       "      <td>42.7</td>\n",
       "    </tr>\n",
       "    <tr>\n",
       "      <th>1</th>\n",
       "      <td>41.0</td>\n",
       "      <td>43.6</td>\n",
       "    </tr>\n",
       "    <tr>\n",
       "      <th>2</th>\n",
       "      <td>41.3</td>\n",
       "      <td>43.8</td>\n",
       "    </tr>\n",
       "    <tr>\n",
       "      <th>3</th>\n",
       "      <td>41.8</td>\n",
       "      <td>43.3</td>\n",
       "    </tr>\n",
       "    <tr>\n",
       "      <th>4</th>\n",
       "      <td>42.4</td>\n",
       "      <td>42.5</td>\n",
       "    </tr>\n",
       "    <tr>\n",
       "      <th>5</th>\n",
       "      <td>42.8</td>\n",
       "      <td>43.5</td>\n",
       "    </tr>\n",
       "    <tr>\n",
       "      <th>6</th>\n",
       "      <td>43.2</td>\n",
       "      <td>43.1</td>\n",
       "    </tr>\n",
       "    <tr>\n",
       "      <th>7</th>\n",
       "      <td>42.3</td>\n",
       "      <td>41.7</td>\n",
       "    </tr>\n",
       "    <tr>\n",
       "      <th>8</th>\n",
       "      <td>41.8</td>\n",
       "      <td>44.0</td>\n",
       "    </tr>\n",
       "    <tr>\n",
       "      <th>9</th>\n",
       "      <td>42.7</td>\n",
       "      <td>44.1</td>\n",
       "    </tr>\n",
       "  </tbody>\n",
       "</table>\n",
       "</div>"
      ],
      "text/plain": [
       "   new_machine  old_machine\n",
       "0         42.1         42.7\n",
       "1         41.0         43.6\n",
       "2         41.3         43.8\n",
       "3         41.8         43.3\n",
       "4         42.4         42.5\n",
       "5         42.8         43.5\n",
       "6         43.2         43.1\n",
       "7         42.3         41.7\n",
       "8         41.8         44.0\n",
       "9         42.7         44.1"
      ]
     },
     "execution_count": 6,
     "metadata": {},
     "output_type": "execute_result"
    }
   ],
   "source": [
    "machine"
   ]
  },
  {
   "cell_type": "code",
   "execution_count": 8,
   "id": "8d364d01",
   "metadata": {},
   "outputs": [
    {
     "name": "stdout",
     "output_type": "stream",
     "text": [
      "The data provides sufficient evidence to show that the new machine packs cartons faster on average than the old machine.\n"
     ]
    }
   ],
   "source": [
    "t_stat, p_val = ttest_ind(machine['new_machine'], machine['old_machine'], alternative='less')\n",
    "\n",
    "if p_val < 0.05:\n",
    "    print(\"The data provides sufficient evidence to show that the new machine packs cartons faster on average than the old machine.\")\n",
    "else:\n",
    "    print(\"The data does not provide sufficient evidence to show that the new machine packs cartons faster on average than the old machine.\")"
   ]
  },
  {
   "cell_type": "code",
   "execution_count": 9,
   "id": "6dcfb1db",
   "metadata": {},
   "outputs": [],
   "source": [
    "# 2.Matched Pairs Test"
   ]
  },
  {
   "cell_type": "code",
   "execution_count": 10,
   "id": "90d8f653",
   "metadata": {},
   "outputs": [],
   "source": [
    "from scipy.stats import ttest_rel"
   ]
  },
  {
   "cell_type": "code",
   "execution_count": 11,
   "id": "4979beb8",
   "metadata": {},
   "outputs": [],
   "source": [
    "pokemon = pd.read_csv('files_for_lab/pokemon.csv')"
   ]
  },
  {
   "cell_type": "code",
   "execution_count": 12,
   "id": "db33c481",
   "metadata": {},
   "outputs": [],
   "source": [
    "t_statistic, p_value = ttest_rel(pokemon['Attack'], pokemon['Defense'])"
   ]
  },
  {
   "cell_type": "code",
   "execution_count": 13,
   "id": "e21e6eed",
   "metadata": {},
   "outputs": [
    {
     "name": "stdout",
     "output_type": "stream",
     "text": [
      "t-statistic:  4.325566393330478\n",
      "p-value:  1.7140303479358558e-05\n"
     ]
    }
   ],
   "source": [
    "print(\"t-statistic: \", t_statistic)\n",
    "print(\"p-value: \", p_value)"
   ]
  },
  {
   "cell_type": "code",
   "execution_count": 14,
   "id": "d28ba292",
   "metadata": {},
   "outputs": [],
   "source": [
    "# Based on the these numbers we should reject the null hypothesis.\n",
    "# There is a significant difference between attach and defence score of the Pokemon"
   ]
  },
  {
   "cell_type": "code",
   "execution_count": null,
   "id": "315391a9",
   "metadata": {},
   "outputs": [],
   "source": []
  }
 ],
 "metadata": {
  "kernelspec": {
   "display_name": "Python 3 (ipykernel)",
   "language": "python",
   "name": "python3"
  },
  "language_info": {
   "codemirror_mode": {
    "name": "ipython",
    "version": 3
   },
   "file_extension": ".py",
   "mimetype": "text/x-python",
   "name": "python",
   "nbconvert_exporter": "python",
   "pygments_lexer": "ipython3",
   "version": "3.9.13"
  }
 },
 "nbformat": 4,
 "nbformat_minor": 5
}
